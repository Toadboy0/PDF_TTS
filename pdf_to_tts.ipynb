{
  "nbformat": 4,
  "nbformat_minor": 0,
  "metadata": {
    "colab": {
      "provenance": []
    },
    "kernelspec": {
      "name": "python3",
      "display_name": "Python 3"
    },
    "language_info": {
      "name": "python"
    }
  },
  "cells": [
    {
      "cell_type": "markdown",
      "source": [
        "This file uses google's TTS engine to convert PDF to text. A prompt will be displayed to upload the PDF. Once uploaded a prompt will ask for the page numbers to be rendered, separated by commas. If only one page is required, enter that page number without including a delimiter. "
      ],
      "metadata": {
        "id": "9T_N5VXF8TbD"
      }
    },
    {
      "cell_type": "code",
      "source": [
        "#Required \n",
        "!pip install PyPDF2\n",
        "!pip install gtts\n",
        "!pip install IPython\n",
        "\n",
        "# import libraries\n",
        "import PyPDF2\n",
        "from gtts import gTTS\n",
        "from IPython.display import Audio\n",
        "\n",
        "# Display upload prompt\n",
        "from google.colab import files\n",
        "uploaded = files.upload()\n",
        "pdf_filename = next(iter(uploaded))\n",
        "\n",
        "# Defines text extraction from PDF\n",
        "def pdf_to_text_specific_pages(pdf_filename, page_numbers):\n",
        "    pdf_file = open(pdf_filename, 'rb')\n",
        "    pdf_reader = PyPDF2.PdfReader(pdf_file)\n",
        "    text = \"\"\n",
        "\n",
        "    for page in page_numbers:\n",
        "        if 0 <= page < len(pdf_reader.pages):\n",
        "            pdf_page = pdf_reader.pages[page]\n",
        "            text += pdf_page.extract_text()\n",
        "\n",
        "    pdf_file.close()\n",
        "    return text\n",
        "\n",
        "# Defines function for export to TTS\n",
        "def text_to_speech(text):\n",
        "    tts = gTTS(text, lang='en-us')\n",
        "    tts.save('output.mp3')\n",
        "    return Audio('output.mp3', autoplay=True)\n",
        "\n",
        "# Prompt for page numbers to be converted\n",
        "page_numbers_str = input(\"Enter the page numbers to convert to speech, separated by commas: \")\n",
        "page_numbers = [int(page.strip()) for page in page_numbers_str.split(',')]\n",
        "\n",
        "# Convert selected pages and play output\n",
        "pdf_text = pdf_to_text_specific_pages(pdf_filename, page_numbers)\n",
        "audio_output = text_to_speech(pdf_text)\n",
        "audio_output\n"
      ],
      "metadata": {
        "id": "GgwWuFst5S_4"
      },
      "execution_count": null,
      "outputs": []
    }
  ]
}